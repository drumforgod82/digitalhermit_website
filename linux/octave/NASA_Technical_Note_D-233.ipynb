{
 "cells": [
  {
   "cell_type": "markdown",
   "metadata": {},
   "source": [
    "\n",
    "TECHNICAL NOTE\n",
    "D-233\n",
    "\n",
    "DETERMINATION OF AZIMUTH ANGLE AT BURNOUT LANDING FOR PLACING A SATELLITE OVER A SELECTED EARTH POSITION\n",
    "By T.H.Skopinski and Katherine G. Johnson\n",
    "Langley Research Center\n",
    "Langley Field, Va.\n",
    "\n",
    "NATIONAL AERONAUTICS AND SPACE ADMINISTRATION\n",
    "WASHINGTON                                       September 1960\n",
    "\n",
    "\n",
    "\n",
    "NATIONAL AERONAUTICS AND SPACE ADMINISTRATION\n",
    "TECHNICAL NOTE D-233\n",
    "DETERMINATION OF AZIMUTH ANGLE AT BURNOUT LANDING FOR PLACING A SATELLITE OVER A SELECTED EARTH POSITION\n",
    "By T.H.Skopinski and Katherine G. Johnson\n",
    "\n",
    "SUMMARY\n",
    "Expressions are presented for relating the satellite position in the orbital plane with the projected latitude and longitude on a rotating earth surface.  An expression is also presented for determining the azimuth angle at a given burnout position on the basis of a selected passage position on the earth's surface. \n",
    "\n",
    "Examples are presented of a satellite launched eastward and one launched westward, each passing over a selected position sometime after having completed three orbits.  Incremental changes from the desired latitude and longitude due to the earth's oblateness are included in the iteration for obtaining the azimuth angles of the two examples.  The results for both cases are then compared with those obtained from a com- puting program using an oblate rotating earth.  Changes from the selected latitude and longitude resulting from incremental changes from the burn- out azimuth angle and latitude are also analyzed.\n",
    "\n",
    "INTRODUCTION\n",
    "\n",
    "In the recovery of an artificial earth satellite it is necessary to bring the satellite over a preselected point above the earth from which the reentry is to be initiated.  It is the purpose of the present paper to determine the azimuth angle which must exist at a given burnout point in order to have the satellite vehicle pass over any particular earth position after a selected small number of orbital passes.  For this pur- pose equations are developed which give the latitude and longitude of a point on the surface of a rotating spherical earth directly under the satellite at any time.  An expression is developed which, with the orbit characteristics and the selected passage position on the earth's surface, will establish after only a few iterations the required azimuth angle at the burnout point.\n",
    "\n",
    "Elliptical orbits about a rotating spherical earth are first assumed.  Although this simplification ignores the effects of the earth's oblateness,it is convenient to examine the oblateness effects later as incremental changes which can be accounted for in an iteration procedure. Departures from the desired latitude and longitude passage position resulting from incremental changes in the azimuth angle and latitude at burnout are also analyzed.\n",
    "\n",
    "SYMBOLS\n",
    "\n",
    "| Symbol | Definition|\n",
    "|---|---|\n",
    "| a | semimaJor axis of elliptic orbit|\n",
    "| E | eccentric anomaly, defined by equation (9)|\n",
    "| e | eccentricity of orbit, defined by equation (6)|\n",
    "| $g_{0}$ | gravitational constant at earth surface|\n",
    "| i | inclination angle of orbital plane|\n",
    "| N | nodal point at which satellite crosses equator|\n",
    "| n | number of completed orbital passes, referenced to launch latitude|\n",
    "| O | center of earth|\n",
    "| P | perigee location in orbital plane semilatus rectum of ellipse, defined by equation (1)|\n",
    "| R | radius of earth|\n",
    "| r | distance of satellite from earth center|\n",
    "| S | position of satellite in orbital plane|\n",
    "| T | satellite period, defined by equation (7)|\n",
    "| $t(\\theta )$|  time from perigee, min|\n",
    "| V | satellite velocity, defined by equation (3)|\n",
    "\n",
    "\n",
    "     satellite velocity for circular orbit, defined by equation (4)\n",
    "     elevation angle between local horizon and velocity vector, positive upwards\n",
    "     angle in orbital plane measured from perigee point; also, true anomaly\n",
    "     longitude measured east of prime meridian at Greenwich\n",
    "\n",
    "\n",
    "\n",
    "    geocentric latitude measured north or south of equator\n",
    "    azimuth angle measured clockwise from North\n",
    "    angle defining rotation of orbital plane about earth's axis\n",
    "    angle in orbital plane between nodal point and perigee and, also, argument of perigee, deg\n",
    "    angular velocity of the earth, 0.25068 deg/min (taken as 0.25 deg/min in this report)\n",
    "\n",
    "Subscripts:\n",
    "N    nodal point\n",
    "n    orbit number\n",
    "S    any satellite position\n",
    "1     initial or burnout position\n",
    "2    selected position\n",
    "2e    equivalent selected position in first orbit\n",
    "1-2e     increment between initial or burnout position and equivalent position\n",
    "\n",
    "    \n",
    "\n",
    "This notebook was created for the Flux Linux User Group presentation\n",
    "\n"
   ]
  },
  {
   "cell_type": "code",
   "execution_count": null,
   "metadata": {},
   "outputs": [],
   "source": []
  }
 ],
 "metadata": {
  "kernelspec": {
   "display_name": "Octave",
   "language": "octave",
   "name": "octave"
  },
  "language_info": {
   "file_extension": ".m",
   "help_links": [
    {
     "text": "GNU Octave",
     "url": "https://www.gnu.org/software/octave/support.html"
    },
    {
     "text": "Octave Kernel",
     "url": "https://github.com/Calysto/octave_kernel"
    },
    {
     "text": "MetaKernel Magics",
     "url": "https://metakernel.readthedocs.io/en/latest/source/README.html"
    }
   ],
   "mimetype": "text/x-octave",
   "name": "octave",
   "version": "4.2.2"
  }
 },
 "nbformat": 4,
 "nbformat_minor": 4
}
